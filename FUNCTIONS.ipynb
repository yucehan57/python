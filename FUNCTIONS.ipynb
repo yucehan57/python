{
 "cells": [
  {
   "cell_type": "markdown",
   "metadata": {},
   "source": [
    "# SOME PROGRAMS FOR METHODS AND FUNCTIONS"
   ]
  },
  {
   "cell_type": "markdown",
   "metadata": {},
   "source": [
    "1) Following function calculates the Volume of a circle."
   ]
  },
  {
   "cell_type": "code",
   "execution_count": 1,
   "metadata": {},
   "outputs": [
    {
     "data": {
      "text/plain": [
       "28.26"
      ]
     },
     "execution_count": 1,
     "metadata": {},
     "output_type": "execute_result"
    }
   ],
   "source": [
    "def volOfCircle(rad):\n",
    "    \"\"\"\n",
    "    INPUT: Radius\n",
    "    OUTPUT: Volume of a Circle\n",
    "    \"\"\"\n",
    "    return (rad**2)*3.14\n",
    "volOfCircle(3)"
   ]
  },
  {
   "cell_type": "markdown",
   "metadata": {},
   "source": [
    "2) Following function checks whether the number is within the given range or not!"
   ]
  },
  {
   "cell_type": "code",
   "execution_count": 4,
   "metadata": {},
   "outputs": [
    {
     "name": "stdout",
     "output_type": "stream",
     "text": [
      "Num is within the range\n"
     ]
    }
   ],
   "source": [
    "def ran_check(num,low,high):\n",
    "    \"\"\"\n",
    "    Created by Yucehan Kucukmotor for exercise\n",
    "    This function decides whether a number is in a given range or not\n",
    "    Takes 3 arguments\n",
    "    INPUT: NUM\n",
    "    OUTPUT: Result\n",
    "    \"\"\"\n",
    "    # check whether the num is within the given range\n",
    "    for n in range(5,16):\n",
    "        if 5 <= num < 16:\n",
    "            print('Num is within the range')\n",
    "            break\n",
    "        else:\n",
    "            print('Not within the range')\n",
    "ran_check(8,5,16)"
   ]
  },
  {
   "cell_type": "markdown",
   "metadata": {},
   "source": [
    "3) This function, too, checks whether the number is within the given range or not in a slightly different but better way!"
   ]
  },
  {
   "cell_type": "code",
   "execution_count": 5,
   "metadata": {},
   "outputs": [
    {
     "name": "stdout",
     "output_type": "stream",
     "text": [
      "Number is NOT within the given range, Master\n"
     ]
    }
   ],
   "source": [
    "# try a different way to write this code\n",
    "def ran_check(num,low,high):\n",
    "    \"\"\"\n",
    "    v2 of our first program\n",
    "    \"\"\"\n",
    "    if low <= num <= high:\n",
    "        print('Number is within the range')\n",
    "    else:\n",
    "        print('Number is NOT within the given range, Master')\n",
    "ran_check(23,10,22)"
   ]
  },
  {
   "cell_type": "markdown",
   "metadata": {},
   "source": [
    "4) Write a python function that accepts a string and calculate the number of upper case letters and lower case letters. We'll use a dictionary to keep track of our count."
   ]
  },
  {
   "cell_type": "code",
   "execution_count": 6,
   "metadata": {
    "collapsed": true
   },
   "outputs": [
    {
     "ename": "NameError",
     "evalue": "name 'd' is not defined",
     "output_type": "error",
     "traceback": [
      "\u001b[1;31m---------------------------------------------------------------------------\u001b[0m",
      "\u001b[1;31mNameError\u001b[0m                                 Traceback (most recent call last)",
      "\u001b[1;32m<ipython-input-6-d62e14627bf3>\u001b[0m in \u001b[0;36m<module>\u001b[1;34m()\u001b[0m\n\u001b[0;32m     10\u001b[0m             \u001b[1;32mpass\u001b[0m\u001b[1;33m\u001b[0m\u001b[0m\n\u001b[0;32m     11\u001b[0m \u001b[1;33m\u001b[0m\u001b[0m\n\u001b[1;32m---> 12\u001b[1;33m \u001b[0mprint\u001b[0m\u001b[1;33m(\u001b[0m\u001b[1;34m\"Number of upper case characters in the string is:\"\u001b[0m\u001b[1;33m,\u001b[0m \u001b[0md\u001b[0m\u001b[1;33m[\u001b[0m\u001b[1;34m\"upper\"\u001b[0m\u001b[1;33m]\u001b[0m\u001b[1;33m)\u001b[0m\u001b[1;33m\u001b[0m\u001b[0m\n\u001b[0m\u001b[0;32m     13\u001b[0m \u001b[0mprint\u001b[0m\u001b[1;33m(\u001b[0m\u001b[1;34m\"Number of lower case characters in the string is:\"\u001b[0m\u001b[1;33m,\u001b[0m \u001b[0md\u001b[0m\u001b[1;33m[\u001b[0m\u001b[1;34m\"lower\"\u001b[0m\u001b[1;33m]\u001b[0m\u001b[1;33m)\u001b[0m\u001b[1;33m\u001b[0m\u001b[0m\n\u001b[0;32m     14\u001b[0m \u001b[0ms\u001b[0m \u001b[1;33m=\u001b[0m \u001b[1;34m\"Hello Mr. Kucukmotor. How are you doing in this heavenly Tuesday evening?\"\u001b[0m\u001b[1;33m\u001b[0m\u001b[0m\n",
      "\u001b[1;31mNameError\u001b[0m: name 'd' is not defined"
     ]
    }
   ],
   "source": [
    "def upper_lower_checker(s):\n",
    "    # first create a dictionary\n",
    "    d = {\"upper\":0, \"lower\":0}\n",
    "    for c in s:\n",
    "        if c.isupper():\n",
    "            d[\"upper\"]+=1\n",
    "        elif c.islower():\n",
    "            d[\"lower\"]+=1\n",
    "        else:\n",
    "            pass\n",
    "\n",
    "print(\"Number of upper case characters in the string is:\", d[\"upper\"])\n",
    "print(\"Number of lower case characters in the string is:\", d[\"lower\"])\n",
    "s = \"Hello Mr. Kucukmotor. How are you doing in this heavenly Tuesday evening?\"\n",
    "upper_lower_checker(s)"
   ]
  },
  {
   "cell_type": "markdown",
   "metadata": {},
   "source": [
    "5) Write a Python function that takes a list and returns a new list with unique elements of the first list\n"
   ]
  },
  {
   "cell_type": "code",
   "execution_count": 8,
   "metadata": {},
   "outputs": [
    {
     "data": {
      "text/plain": [
       "'\\nThis code first creates an empty list\\n-use for loop so that we go through every single charachter in our list\\n-check whether the number already exists in our newly created empty list\\n-if not, then append the number to our list\\n-if it exists, pass.\\n-return the unique list\\n'"
      ]
     },
     "execution_count": 8,
     "metadata": {},
     "output_type": "execute_result"
    }
   ],
   "source": [
    "def unique_List(l):\n",
    "    x = []\n",
    "    for a in l:\n",
    "        if a not in x:\n",
    "            x.append(a)\n",
    "    return x\n",
    "unique_List([11,1,1,2,2,2,3,3,4,5,6,7])\n",
    "\n",
    "'''\n",
    "This code first creates an empty list\n",
    "-use for loop so that we go through every single charachter in our list\n",
    "-check whether the number already exists in our newly created empty list\n",
    "-if not, then append the number to our list\n",
    "-if it exists, pass.\n",
    "-return the unique list\n",
    "'''"
   ]
  },
  {
   "cell_type": "markdown",
   "metadata": {},
   "source": [
    "6) # Write a Python function to multiply all the numbers in a list"
   ]
  },
  {
   "cell_type": "code",
   "execution_count": 12,
   "metadata": {},
   "outputs": [
    {
     "data": {
      "text/plain": [
       "560"
      ]
     },
     "execution_count": 12,
     "metadata": {},
     "output_type": "execute_result"
    }
   ],
   "source": [
    "def multiplier(numbers):\n",
    "    \"\"\"\n",
    "    equal first number to total and\n",
    "    go through every number in the given list\n",
    "    by multiplying each with one another and then\n",
    "    adding the result to the total\"\"\"\n",
    "    total = numbers[0]\n",
    "    for x in numbers:\n",
    "        total *= x\n",
    "    return total\n",
    "\n",
    "multiplier([1,35,8,2])"
   ]
  },
  {
   "cell_type": "markdown",
   "metadata": {},
   "source": [
    "7) Write a function that checks whether a passed string in palindrome or not"
   ]
  },
  {
   "cell_type": "code",
   "execution_count": 13,
   "metadata": {},
   "outputs": [
    {
     "data": {
      "text/plain": [
       "True"
      ]
     },
     "execution_count": 13,
     "metadata": {},
     "output_type": "execute_result"
    }
   ],
   "source": [
    "# compare the original string sequence with its reversed version. If the boolean is true, then it is a \n",
    "# palindrome!\n",
    "def palindrome(s):\n",
    "    # compare original s and reversed s. If the boolean is true, it is a palindrome\n",
    "    return s == s[::-1]\n",
    "\n",
    "palindrome('helleh')"
   ]
  },
  {
   "cell_type": "markdown",
   "metadata": {},
   "source": [
    "8) Write a Python function to check whether a string is pangram or not. We will use string module"
   ]
  },
  {
   "cell_type": "code",
   "execution_count": 14,
   "metadata": {
    "collapsed": true
   },
   "outputs": [],
   "source": [
    "import string\n",
    "\n",
    "def ispangram(str1, alphabet=string.ascii_lowercase):  \n",
    "    pass # pass for now\n"
   ]
  },
  {
   "cell_type": "code",
   "execution_count": 15,
   "metadata": {},
   "outputs": [
    {
     "data": {
      "text/plain": [
       "'abcdefghijklmnopqrstuvwxyz'"
      ]
     },
     "execution_count": 15,
     "metadata": {},
     "output_type": "execute_result"
    }
   ],
   "source": [
    "string.ascii_lowercase"
   ]
  },
  {
   "cell_type": "code",
   "execution_count": null,
   "metadata": {
    "collapsed": true
   },
   "outputs": [],
   "source": []
  }
 ],
 "metadata": {
  "kernelspec": {
   "display_name": "Python 3",
   "language": "python",
   "name": "python3"
  },
  "language_info": {
   "codemirror_mode": {
    "name": "ipython",
    "version": 3
   },
   "file_extension": ".py",
   "mimetype": "text/x-python",
   "name": "python",
   "nbconvert_exporter": "python",
   "pygments_lexer": "ipython3",
   "version": "3.6.2"
  }
 },
 "nbformat": 4,
 "nbformat_minor": 2
}
