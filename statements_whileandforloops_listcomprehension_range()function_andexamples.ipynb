{
 "cells": [
  {
   "cell_type": "markdown",
   "metadata": {},
   "source": [
    "# Python statements"
   ]
  },
  {
   "cell_type": "markdown",
   "metadata": {},
   "source": [
    "We will be working on some Python statements! In Python, by incorporating colon and whitespace, we get rid of many of the syntax which you would have otherwise had, were you to use a different programming language such as C++"
   ]
  },
  {
   "cell_type": "code",
   "execution_count": 11,
   "metadata": {
    "collapsed": true
   },
   "outputs": [],
   "source": [
    "a=0\n",
    "b=-1\n",
    "if a > b: #run following statements when a > b is true!\n",
    "    a=3\n",
    "    b=4"
   ]
  },
  {
   "cell_type": "markdown",
   "metadata": {},
   "source": [
    "## if elif else statements"
   ]
  },
  {
   "cell_type": "markdown",
   "metadata": {},
   "source": [
    "Some exampls for if, elif, else statements!"
   ]
  },
  {
   "cell_type": "code",
   "execution_count": 6,
   "metadata": {},
   "outputs": [
    {
     "name": "stdout",
     "output_type": "stream",
     "text": [
      "it is indeed True\n"
     ]
    }
   ],
   "source": [
    "if True:\n",
    "    print ('it is indeed True') #need parenthesis for python 3! but not python 2!"
   ]
  },
  {
   "cell_type": "code",
   "execution_count": 12,
   "metadata": {},
   "outputs": [
    {
     "name": "stdout",
     "output_type": "stream",
     "text": [
      "x is not true!\n"
     ]
    }
   ],
   "source": [
    "x = False\n",
    "\n",
    "if x:  #if x means if x is true\n",
    "    print ('x is true')\n",
    "else: #if x is anything BUT true!\n",
    "    print ('x is not true!')"
   ]
  },
  {
   "cell_type": "code",
   "execution_count": 13,
   "metadata": {},
   "outputs": [
    {
     "name": "stdout",
     "output_type": "stream",
     "text": [
      "welcome to the Bank!\n"
     ]
    }
   ],
   "source": [
    "loc = 'Bank'\n",
    "\n",
    "if loc == 'Auto Shop':\n",
    "    print('welcome to the auto shop!')\n",
    "elif loc == 'Bank':\n",
    "    print('welcome to the Bank!')\n",
    "else:\n",
    "    print('loc is equal to neither!!!')"
   ]
  },
  {
   "cell_type": "code",
   "execution_count": 14,
   "metadata": {},
   "outputs": [
    {
     "name": "stdout",
     "output_type": "stream",
     "text": [
      "loc is equal to neither!!!\n"
     ]
    }
   ],
   "source": [
    "loc = 'Bank'\n",
    "\n",
    "if loc == 'Auto Shop':\n",
    "    print('welcome to the auto shop!')\n",
    "elif loc == 'bank':\n",
    "    print('welcome to the Bank!')\n",
    "else:\n",
    "    print('loc is equal to neither!!!')"
   ]
  },
  {
   "cell_type": "code",
   "execution_count": 15,
   "metadata": {},
   "outputs": [
    {
     "name": "stdout",
     "output_type": "stream",
     "text": [
      "welcome to the auto shop!\n"
     ]
    }
   ],
   "source": [
    "loc = 'Auto Shop'\n",
    "\n",
    "if loc == 'Auto Shop':\n",
    "    print('welcome to the auto shop!')\n",
    "elif loc == 'Bank':\n",
    "    print('welcome to the Bank!')\n",
    "else:\n",
    "    print('loc is equal to neither!!!')"
   ]
  },
  {
   "cell_type": "code",
   "execution_count": 16,
   "metadata": {},
   "outputs": [
    {
     "name": "stdout",
     "output_type": "stream",
     "text": [
      "Hi Sam!\n"
     ]
    }
   ],
   "source": [
    "person = 'Sam'\n",
    "if person == 'Sam':\n",
    "    print('Hi Sam!')\n",
    "else:\n",
    "    print('What is your name?')"
   ]
  },
  {
   "cell_type": "code",
   "execution_count": 17,
   "metadata": {},
   "outputs": [
    {
     "name": "stdout",
     "output_type": "stream",
     "text": [
      "What is your name?\n"
     ]
    }
   ],
   "source": [
    "person = 'John'\n",
    "if person == 'Sam':\n",
    "    print('Hi Sam!')\n",
    "else:\n",
    "    print('What is your name?')"
   ]
  },
  {
   "cell_type": "markdown",
   "metadata": {},
   "source": [
    "## For-loops exercise"
   ]
  },
  {
   "cell_type": "markdown",
   "metadata": {},
   "source": [
    "For iteration!"
   ]
  },
  {
   "cell_type": "code",
   "execution_count": 1,
   "metadata": {
    "collapsed": true
   },
   "outputs": [],
   "source": [
    "l = [1,2,3,4,5]"
   ]
  },
  {
   "cell_type": "code",
   "execution_count": 2,
   "metadata": {},
   "outputs": [
    {
     "data": {
      "text/plain": [
       "[1, 2, 3, 4, 5]"
      ]
     },
     "execution_count": 2,
     "metadata": {},
     "output_type": "execute_result"
    }
   ],
   "source": [
    "l"
   ]
  },
  {
   "cell_type": "markdown",
   "metadata": {},
   "source": [
    "Print all the elements with for loop"
   ]
  },
  {
   "cell_type": "code",
   "execution_count": 5,
   "metadata": {},
   "outputs": [
    {
     "name": "stdout",
     "output_type": "stream",
     "text": [
      "1\n",
      "2\n",
      "3\n",
      "4\n",
      "5\n"
     ]
    }
   ],
   "source": [
    "for element in l:\n",
    "    print(element)"
   ]
  },
  {
   "cell_type": "code",
   "execution_count": 6,
   "metadata": {},
   "outputs": [
    {
     "name": "stdout",
     "output_type": "stream",
     "text": [
      "print this five times\n",
      "print this five times\n",
      "print this five times\n",
      "print this five times\n",
      "print this five times\n"
     ]
    }
   ],
   "source": [
    "#print as many numbers there are\n",
    "for num in l:\n",
    "    print('print this five times')"
   ]
  },
  {
   "cell_type": "markdown",
   "metadata": {},
   "source": [
    "MODULO IS A VERY USEFUL TOOL IN PYTHON! and OFTENLY USED FOR ITERATION PROCESS"
   ]
  },
  {
   "cell_type": "code",
   "execution_count": 7,
   "metadata": {
    "collapsed": true
   },
   "outputs": [],
   "source": [
    "# MODULO"
   ]
  },
  {
   "cell_type": "code",
   "execution_count": 8,
   "metadata": {},
   "outputs": [
    {
     "data": {
      "text/plain": [
       "1"
      ]
     },
     "execution_count": 8,
     "metadata": {},
     "output_type": "execute_result"
    }
   ],
   "source": [
    "10%3 #should return 1"
   ]
  },
  {
   "cell_type": "code",
   "execution_count": 9,
   "metadata": {},
   "outputs": [
    {
     "data": {
      "text/plain": [
       "9"
      ]
     },
     "execution_count": 9,
     "metadata": {},
     "output_type": "execute_result"
    }
   ],
   "source": [
    "1009 % 1000"
   ]
  },
  {
   "cell_type": "code",
   "execution_count": 10,
   "metadata": {},
   "outputs": [
    {
     "name": "stdout",
     "output_type": "stream",
     "text": [
      "2\n",
      "4\n"
     ]
    }
   ],
   "source": [
    "for num in l:\n",
    "    if num % 2 == 0:\n",
    "        print(num)"
   ]
  },
  {
   "cell_type": "code",
   "execution_count": 11,
   "metadata": {},
   "outputs": [
    {
     "name": "stdout",
     "output_type": "stream",
     "text": [
      "1\n",
      "3\n",
      "5\n"
     ]
    }
   ],
   "source": [
    "for num in l:\n",
    "    if num % 2 ==1: #prints odd numbers\n",
    "        print(num)"
   ]
  },
  {
   "cell_type": "code",
   "execution_count": 12,
   "metadata": {},
   "outputs": [
    {
     "name": "stdout",
     "output_type": "stream",
     "text": [
      "Odd nums\n",
      "Even nums\n",
      "Odd nums\n",
      "Even nums\n",
      "Odd nums\n"
     ]
    }
   ],
   "source": [
    "for num in l:\n",
    "    if num % 2 == 0:\n",
    "        print('Even nums')\n",
    "    else:\n",
    "        print('Odd nums')"
   ]
  },
  {
   "cell_type": "markdown",
   "metadata": {},
   "source": [
    "FIND THE EVEN AND ODD NUMBERS FROM A LIST AND LABEL THEM ACCORDINGLY!"
   ]
  },
  {
   "cell_type": "code",
   "execution_count": 13,
   "metadata": {},
   "outputs": [
    {
     "name": "stdout",
     "output_type": "stream",
     "text": [
      "This number is even:  10\n",
      "This number is odd:  13\n",
      "This number is odd:  15\n",
      "This number is odd:  17\n",
      "This number is odd:  19\n"
     ]
    }
   ],
   "source": [
    "MyNumList = [10,13,15,17,19]\n",
    "for num in MyNumList:\n",
    "    if num % 2 == 0:\n",
    "        print('This number is even: ', num)\n",
    "    elif num % 2 == 1:\n",
    "        print('This number is odd: ', num)"
   ]
  },
  {
   "cell_type": "markdown",
   "metadata": {},
   "source": [
    "How too add all the numbers in a list together? with FOR LOOP"
   ]
  },
  {
   "cell_type": "code",
   "execution_count": 15,
   "metadata": {},
   "outputs": [
    {
     "name": "stdout",
     "output_type": "stream",
     "text": [
      "15\n"
     ]
    }
   ],
   "source": [
    "listSum = 0\n",
    "\n",
    "for num in l:\n",
    "    listSum += num\n",
    "    \n",
    "print(listSum)"
   ]
  },
  {
   "cell_type": "code",
   "execution_count": 16,
   "metadata": {},
   "outputs": [
    {
     "name": "stdout",
     "output_type": "stream",
     "text": [
      "Y\n",
      "u\n",
      "c\n",
      "e\n",
      "h\n",
      "a\n",
      "n\n",
      " \n",
      "K\n",
      "u\n",
      "c\n",
      "u\n",
      "k\n",
      "m\n",
      "o\n",
      "t\n",
      "o\n",
      "r\n",
      " \n",
      "w\n",
      "a\n",
      "s\n",
      " \n",
      "b\n",
      "o\n",
      "r\n",
      "n\n",
      " \n",
      "i\n",
      "n\n",
      " \n",
      "1\n",
      "9\n",
      "9\n",
      "2\n"
     ]
    }
   ],
   "source": [
    "s = 'Yucehan Kucukmotor was born in 1992'\n",
    "for letter in s:\n",
    "    print(letter)"
   ]
  },
  {
   "cell_type": "markdown",
   "metadata": {},
   "source": [
    "TUPLES AND FOR LOOP/ITERATION"
   ]
  },
  {
   "cell_type": "code",
   "execution_count": 17,
   "metadata": {},
   "outputs": [
    {
     "name": "stdout",
     "output_type": "stream",
     "text": [
      "1\n",
      "2\n",
      "3\n",
      "4\n",
      "5\n"
     ]
    }
   ],
   "source": [
    "tup = (1,2,3,4,5)\n",
    "for t in tup:\n",
    "    print(t)"
   ]
  },
  {
   "cell_type": "markdown",
   "metadata": {},
   "source": [
    "2-valued tuple items are like coordinations!"
   ]
  },
  {
   "cell_type": "code",
   "execution_count": 18,
   "metadata": {},
   "outputs": [
    {
     "data": {
      "text/plain": [
       "[(1, 2), (3, 4), (5, 6), ('a', 'b')]"
      ]
     },
     "execution_count": 18,
     "metadata": {},
     "output_type": "execute_result"
    }
   ],
   "source": [
    "l = [(1,2), (3,4), (5,6), ('a','b')]\n",
    "l"
   ]
  },
  {
   "cell_type": "code",
   "execution_count": 19,
   "metadata": {},
   "outputs": [
    {
     "data": {
      "text/plain": [
       "(1, 2)"
      ]
     },
     "execution_count": 19,
     "metadata": {},
     "output_type": "execute_result"
    }
   ],
   "source": [
    "l[0]"
   ]
  },
  {
   "cell_type": "code",
   "execution_count": 20,
   "metadata": {},
   "outputs": [
    {
     "data": {
      "text/plain": [
       "2"
      ]
     },
     "execution_count": 20,
     "metadata": {},
     "output_type": "execute_result"
    }
   ],
   "source": [
    "l[0][1]"
   ]
  },
  {
   "cell_type": "code",
   "execution_count": 21,
   "metadata": {},
   "outputs": [
    {
     "data": {
      "text/plain": [
       "'a'"
      ]
     },
     "execution_count": 21,
     "metadata": {},
     "output_type": "execute_result"
    }
   ],
   "source": [
    "l[3][0] #grab 'a'"
   ]
  },
  {
   "cell_type": "code",
   "execution_count": 23,
   "metadata": {},
   "outputs": [
    {
     "name": "stdout",
     "output_type": "stream",
     "text": [
      "(1, 2)\n",
      "(3, 4)\n",
      "(5, 6)\n",
      "('a', 'b')\n"
     ]
    }
   ],
   "source": [
    "for tup in l:\n",
    "    print(tup)"
   ]
  },
  {
   "cell_type": "markdown",
   "metadata": {},
   "source": [
    "WHAT IF YOU JUST WANT TO PRINT OUT THE FIRST ELEMENTS OF A GIVEN TUPLE? "
   ]
  },
  {
   "cell_type": "code",
   "execution_count": 24,
   "metadata": {},
   "outputs": [
    {
     "name": "stdout",
     "output_type": "stream",
     "text": [
      "1\n",
      "3\n",
      "5\n",
      "a\n"
     ]
    }
   ],
   "source": [
    "for (t1,t2) in l:\n",
    "    print(t1) #unpack and print first element of the tuple"
   ]
  },
  {
   "cell_type": "code",
   "execution_count": 27,
   "metadata": {},
   "outputs": [
    {
     "name": "stdout",
     "output_type": "stream",
     "text": [
      "2\n",
      "12\n",
      "30\n"
     ]
    },
    {
     "ename": "TypeError",
     "evalue": "can't multiply sequence by non-int of type 'str'",
     "output_type": "error",
     "traceback": [
      "\u001b[1;31m---------------------------------------------------------------------------\u001b[0m",
      "\u001b[1;31mTypeError\u001b[0m                                 Traceback (most recent call last)",
      "\u001b[1;32m<ipython-input-27-2d717dda4c9c>\u001b[0m in \u001b[0;36m<module>\u001b[1;34m()\u001b[0m\n\u001b[0;32m      1\u001b[0m \u001b[1;32mfor\u001b[0m \u001b[1;33m(\u001b[0m\u001b[0mn1\u001b[0m\u001b[1;33m,\u001b[0m\u001b[0mn2\u001b[0m\u001b[1;33m)\u001b[0m \u001b[1;32min\u001b[0m \u001b[0ml\u001b[0m\u001b[1;33m:\u001b[0m\u001b[1;33m\u001b[0m\u001b[0m\n\u001b[1;32m----> 2\u001b[1;33m     \u001b[0mprint\u001b[0m\u001b[1;33m(\u001b[0m\u001b[0mn1\u001b[0m\u001b[1;33m*\u001b[0m\u001b[0mn2\u001b[0m\u001b[1;33m)\u001b[0m \u001b[1;31m# wont multiply str\u001b[0m\u001b[1;33m\u001b[0m\u001b[0m\n\u001b[0m",
      "\u001b[1;31mTypeError\u001b[0m: can't multiply sequence by non-int of type 'str'"
     ]
    }
   ],
   "source": [
    "for (n1,n2) in l:\n",
    "    print(n1*n2) # wont multiply str"
   ]
  },
  {
   "cell_type": "code",
   "execution_count": 28,
   "metadata": {},
   "outputs": [
    {
     "data": {
      "text/plain": [
       "{'a': 'b', 'c': 'd', 'lel': 57400}"
      ]
     },
     "execution_count": 28,
     "metadata": {},
     "output_type": "execute_result"
    }
   ],
   "source": [
    "d = {'a':'b', 'c':'d', 'lel': 57400}\n",
    "d"
   ]
  },
  {
   "cell_type": "code",
   "execution_count": 29,
   "metadata": {},
   "outputs": [
    {
     "name": "stdout",
     "output_type": "stream",
     "text": [
      "{'a': 'b', 'c': 'd', 'lel': 57400}\n",
      "{'a': 'b', 'c': 'd', 'lel': 57400}\n",
      "{'a': 'b', 'c': 'd', 'lel': 57400}\n"
     ]
    }
   ],
   "source": [
    "for item in d:\n",
    "    print(d)"
   ]
  },
  {
   "cell_type": "code",
   "execution_count": 30,
   "metadata": {
    "collapsed": true
   },
   "outputs": [],
   "source": [
    "# In Python 2 you can use d.iteritems to print both keys and values"
   ]
  },
  {
   "cell_type": "markdown",
   "metadata": {},
   "source": [
    "# while-loops "
   ]
  },
  {
   "cell_type": "markdown",
   "metadata": {},
   "source": [
    "While-loops are condition-based statements"
   ]
  },
  {
   "cell_type": "code",
   "execution_count": 33,
   "metadata": {},
   "outputs": [
    {
     "name": "stdout",
     "output_type": "stream",
     "text": [
      "x is currently: 0\n",
      "x is currently: 1\n",
      "x is currently: 2\n",
      "x is currently: 3\n",
      "x is currently: 4\n",
      "x is currently: 5\n",
      "x is currently: 6\n",
      "x is currently: 7\n",
      "x is currently: 8\n",
      "x is currently: 9\n"
     ]
    }
   ],
   "source": [
    "x = 0\n",
    "while x < 10:\n",
    "    print('x is currently:',x)\n",
    "    x+=1"
   ]
  },
  {
   "cell_type": "code",
   "execution_count": 36,
   "metadata": {},
   "outputs": [
    {
     "name": "stdout",
     "output_type": "stream",
     "text": [
      "X is less than 3: -2\n",
      "X is less than 3: -1\n",
      "X is less than 3: 0\n",
      "X is less than 3: 1\n",
      "X is less than 3: 2\n",
      "now we've reached the moment where we need to stop\n"
     ]
    }
   ],
   "source": [
    "x = -2\n",
    "while x < 3:\n",
    "    print('X is less than 3:', x)\n",
    "    x+=1\n",
    "else:\n",
    "    print(\"now we've reached the moment where we need to stop\")"
   ]
  },
  {
   "cell_type": "markdown",
   "metadata": {},
   "source": [
    "Break,continue, and pass"
   ]
  },
  {
   "cell_type": "code",
   "execution_count": 39,
   "metadata": {},
   "outputs": [
    {
     "name": "stdout",
     "output_type": "stream",
     "text": [
      "x is currently:  0\n",
      "x is still less than 10, adding 1 to x\n",
      "continuing\n",
      "x is currently:  1\n",
      "x is still less than 10, adding 1 to x\n",
      "continuing\n",
      "x is currently:  2\n",
      "x is still less than 10, adding 1 to x\n",
      "hey. x has reached 3!!\n"
     ]
    }
   ],
   "source": [
    "x = 0\n",
    "\n",
    "while x < 10:\n",
    "    print('x is currently: ', x)\n",
    "    print('x is still less than 10, adding 1 to x')\n",
    "    x+=1\n",
    "    if x == 3:\n",
    "        print('hey. x has reached 3!!')\n",
    "        break\n",
    "    else:\n",
    "        print('continuing')\n",
    "        continue"
   ]
  },
  {
   "cell_type": "markdown",
   "metadata": {},
   "source": [
    "# Range() function to be covered briefly"
   ]
  },
  {
   "cell_type": "code",
   "execution_count": 40,
   "metadata": {},
   "outputs": [
    {
     "data": {
      "text/plain": [
       "range(0, 6)"
      ]
     },
     "execution_count": 40,
     "metadata": {},
     "output_type": "execute_result"
    }
   ],
   "source": [
    "range(0,6)"
   ]
  },
  {
   "cell_type": "code",
   "execution_count": 44,
   "metadata": {},
   "outputs": [
    {
     "name": "stdout",
     "output_type": "stream",
     "text": [
      "now number is: 0\n",
      "now number is: 1\n",
      "now number is: 2\n",
      "now number is: 3\n",
      "now number is: 4\n",
      "now number is: 5\n",
      "now number is: 6\n",
      "now number is: 7\n",
      "now number is: 8\n",
      "now number is: 9\n",
      "now number is: 10\n"
     ]
    }
   ],
   "source": [
    "for num in range(11):\n",
    "    print('now number is:', num)"
   ]
  },
  {
   "cell_type": "code",
   "execution_count": 46,
   "metadata": {},
   "outputs": [
    {
     "data": {
      "text/plain": [
       "range(5, 16, 5)"
      ]
     },
     "execution_count": 46,
     "metadata": {},
     "output_type": "execute_result"
    }
   ],
   "source": [
    "range(5,16,5)"
   ]
  },
  {
   "cell_type": "code",
   "execution_count": 47,
   "metadata": {},
   "outputs": [
    {
     "name": "stdout",
     "output_type": "stream",
     "text": [
      "range(5, 16, 5)\n"
     ]
    }
   ],
   "source": [
    "x=range(5,16,5)\n",
    "print(x)"
   ]
  },
  {
   "cell_type": "code",
   "execution_count": 48,
   "metadata": {},
   "outputs": [
    {
     "data": {
      "text/plain": [
       "range"
      ]
     },
     "execution_count": 48,
     "metadata": {},
     "output_type": "execute_result"
    }
   ],
   "source": [
    "type(x)"
   ]
  },
  {
   "cell_type": "code",
   "execution_count": 49,
   "metadata": {
    "collapsed": true
   },
   "outputs": [],
   "source": [
    "big=range(4123)"
   ]
  },
  {
   "cell_type": "code",
   "execution_count": 50,
   "metadata": {},
   "outputs": [
    {
     "name": "stdout",
     "output_type": "stream",
     "text": [
      "range(0, 4123)\n"
     ]
    }
   ],
   "source": [
    "print(big)"
   ]
  },
  {
   "cell_type": "markdown",
   "metadata": {
    "collapsed": true
   },
   "source": [
    "RANGE() FUNCTION\n"
   ]
  },
  {
   "cell_type": "code",
   "execution_count": 1,
   "metadata": {},
   "outputs": [
    {
     "data": {
      "text/plain": [
       "range(0, 5)"
      ]
     },
     "execution_count": 1,
     "metadata": {},
     "output_type": "execute_result"
    }
   ],
   "source": [
    "range(0,5)"
   ]
  },
  {
   "cell_type": "code",
   "execution_count": 2,
   "metadata": {
    "collapsed": true
   },
   "outputs": [],
   "source": [
    "x=range(0,10)"
   ]
  },
  {
   "cell_type": "code",
   "execution_count": 3,
   "metadata": {},
   "outputs": [
    {
     "name": "stdout",
     "output_type": "stream",
     "text": [
      "still less than 5\n",
      "still less than 5\n",
      "still less than 5\n",
      "still less than 5\n",
      "still less than 5\n",
      "still less than 5\n",
      "hey boy\n",
      "hey boy\n",
      "hey boy\n",
      "hey boy\n"
     ]
    }
   ],
   "source": [
    "for num in x:\n",
    "    if num > 5:\n",
    "        print(\"hey boy\")\n",
    "    else:\n",
    "        print(\"still less than 5\")\n",
    "        "
   ]
  },
  {
   "cell_type": "markdown",
   "metadata": {
    "collapsed": true
   },
   "source": [
    "# List Comprehension is a useful technique that terrifies many beginners. It will be covered briefly here."
   ]
  },
  {
   "cell_type": "code",
   "execution_count": 2,
   "metadata": {
    "collapsed": true
   },
   "outputs": [],
   "source": [
    "# grab every letter in string\n",
    "lst = [x for x in 'word']"
   ]
  },
  {
   "cell_type": "code",
   "execution_count": 3,
   "metadata": {},
   "outputs": [
    {
     "data": {
      "text/plain": [
       "['w', 'o', 'r', 'd']"
      ]
     },
     "execution_count": 3,
     "metadata": {},
     "output_type": "execute_result"
    }
   ],
   "source": [
    "lst"
   ]
  },
  {
   "cell_type": "code",
   "execution_count": 4,
   "metadata": {
    "collapsed": true
   },
   "outputs": [],
   "source": [
    "MyListComprehension = [l for l in 'My Name is Giovanni Giorgio']"
   ]
  },
  {
   "cell_type": "code",
   "execution_count": 5,
   "metadata": {},
   "outputs": [
    {
     "data": {
      "text/plain": [
       "['M',\n",
       " 'y',\n",
       " ' ',\n",
       " 'N',\n",
       " 'a',\n",
       " 'm',\n",
       " 'e',\n",
       " ' ',\n",
       " 'i',\n",
       " 's',\n",
       " ' ',\n",
       " 'G',\n",
       " 'i',\n",
       " 'o',\n",
       " 'v',\n",
       " 'a',\n",
       " 'n',\n",
       " 'n',\n",
       " 'i',\n",
       " ' ',\n",
       " 'G',\n",
       " 'i',\n",
       " 'o',\n",
       " 'r',\n",
       " 'g',\n",
       " 'i',\n",
       " 'o']"
      ]
     },
     "execution_count": 5,
     "metadata": {},
     "output_type": "execute_result"
    }
   ],
   "source": [
    "MyListComprehension"
   ]
  },
  {
   "cell_type": "code",
   "execution_count": 6,
   "metadata": {},
   "outputs": [
    {
     "data": {
      "text/plain": [
       "['Y',\n",
       " 'u',\n",
       " 'c',\n",
       " 'e',\n",
       " 'h',\n",
       " 'a',\n",
       " 'n',\n",
       " ' ',\n",
       " 'K',\n",
       " 'u',\n",
       " 'c',\n",
       " 'u',\n",
       " 'k',\n",
       " 'm',\n",
       " 'o',\n",
       " 't',\n",
       " 'o',\n",
       " 'r']"
      ]
     },
     "execution_count": 6,
     "metadata": {},
     "output_type": "execute_result"
    }
   ],
   "source": [
    "fullName = 'Yucehan Kucukmotor'\n",
    "MyName = [l for l in fullName]\n",
    "MyName"
   ]
  },
  {
   "cell_type": "code",
   "execution_count": 7,
   "metadata": {
    "collapsed": true
   },
   "outputs": [],
   "source": [
    "list = [x**3 for x in range(0,15)]"
   ]
  },
  {
   "cell_type": "code",
   "execution_count": 8,
   "metadata": {},
   "outputs": [
    {
     "data": {
      "text/plain": [
       "[0, 1, 8, 27, 64, 125, 216, 343, 512, 729, 1000, 1331, 1728, 2197, 2744]"
      ]
     },
     "execution_count": 8,
     "metadata": {},
     "output_type": "execute_result"
    }
   ],
   "source": [
    "list"
   ]
  },
  {
   "cell_type": "markdown",
   "metadata": {},
   "source": [
    "A good example of list comprehension use!"
   ]
  },
  {
   "cell_type": "code",
   "execution_count": 9,
   "metadata": {},
   "outputs": [
    {
     "data": {
      "text/plain": [
       "[3.1622776601683795,\n",
       " 10.488088481701515,\n",
       " 14.491376746189438,\n",
       " 17.60681686165901,\n",
       " 20.248456731316587,\n",
       " 22.58317958127243,\n",
       " 24.698178070456937,\n",
       " 26.645825188948457,\n",
       " 28.460498941515414,\n",
       " 30.166206257996713]"
      ]
     },
     "execution_count": 9,
     "metadata": {},
     "output_type": "execute_result"
    }
   ],
   "source": [
    "Listed = [x**0.5 for x in range(10,1000,100)]\n",
    "Listed"
   ]
  },
  {
   "cell_type": "code",
   "execution_count": 14,
   "metadata": {
    "collapsed": true
   },
   "outputs": [],
   "source": [
    "# check for even then for odd numbers using list comprehension technique\n",
    "listx = [x for x in range(5,15,2) if x % 2 == 0] #display even numbers. No value\n",
    "listy = [x for x in range(5,15,2) if x % 2 == 1] #display odd numbers. 5,6,9,11,13"
   ]
  },
  {
   "cell_type": "code",
   "execution_count": 15,
   "metadata": {},
   "outputs": [
    {
     "data": {
      "text/plain": [
       "[]"
      ]
     },
     "execution_count": 15,
     "metadata": {},
     "output_type": "execute_result"
    }
   ],
   "source": [
    "listx #evens"
   ]
  },
  {
   "cell_type": "code",
   "execution_count": 16,
   "metadata": {},
   "outputs": [
    {
     "data": {
      "text/plain": [
       "[5, 7, 9, 11, 13]"
      ]
     },
     "execution_count": 16,
     "metadata": {},
     "output_type": "execute_result"
    }
   ],
   "source": [
    "listy"
   ]
  },
  {
   "cell_type": "markdown",
   "metadata": {},
   "source": [
    "More complicated arithmetic can also be calculated"
   ]
  },
  {
   "cell_type": "code",
   "execution_count": 18,
   "metadata": {},
   "outputs": [
    {
     "data": {
      "text/plain": [
       "[32.0, 50.0, 68.18, 94.63999999999999]"
      ]
     },
     "execution_count": 18,
     "metadata": {},
     "output_type": "execute_result"
    }
   ],
   "source": [
    "celsius = [0,10,20.1,34.8]\n",
    "fahrenheit = [((float(9)/5)* temp +32) for temp in celsius]\n",
    "fahrenheit"
   ]
  },
  {
   "cell_type": "markdown",
   "metadata": {},
   "source": [
    "***Statements assessment***"
   ]
  },
  {
   "cell_type": "code",
   "execution_count": 28,
   "metadata": {
    "scrolled": true
   },
   "outputs": [
    {
     "name": "stdout",
     "output_type": "stream",
     "text": [
      "start\n",
      "s\n",
      "sentence\n"
     ]
    }
   ],
   "source": [
    "# print words that start with letter 's' by splitting the sentence and using for, if technique\n",
    "st = 'Print only the words that start with s in this sentence'\n",
    "\n",
    "for myW in st.split():\n",
    "    if myW[0] == 's':\n",
    "        print(myW)"
   ]
  },
  {
   "cell_type": "code",
   "execution_count": 31,
   "metadata": {},
   "outputs": [
    {
     "data": {
      "text/plain": [
       "[0, 2, 4, 6, 8, 10]"
      ]
     },
     "execution_count": 31,
     "metadata": {},
     "output_type": "execute_result"
    }
   ],
   "source": [
    "# use range() to print all even numbers from 0 to 10\n",
    "lst = [x for x in range(0,11) if x % 2 ==0]\n",
    "lst"
   ]
  },
  {
   "cell_type": "code",
   "execution_count": 32,
   "metadata": {},
   "outputs": [
    {
     "name": "stdout",
     "output_type": "stream",
     "text": [
      "Even: 0\n",
      "Even: 2\n",
      "Even: 4\n",
      "Even: 6\n",
      "Even: 8\n",
      "Even: 10\n"
     ]
    }
   ],
   "source": [
    "xL = range(0, 11)\n",
    "for x in xL:\n",
    "    if x % 2 == 0:\n",
    "        print('Even:', x)"
   ]
  },
  {
   "cell_type": "code",
   "execution_count": 33,
   "metadata": {},
   "outputs": [
    {
     "name": "stdout",
     "output_type": "stream",
     "text": [
      "range(0, 11, 2)\n"
     ]
    }
   ],
   "source": [
    "print(range(0,11,2))"
   ]
  },
  {
   "cell_type": "code",
   "execution_count": 1,
   "metadata": {
    "collapsed": true
   },
   "outputs": [
    {
     "data": {
      "text/plain": [
       "[0, 3, 6, 9, 12, 15, 18, 21, 24, 27, 30, 33, 36, 39, 42, 45, 48]"
      ]
     },
     "execution_count": 1,
     "metadata": {},
     "output_type": "execute_result"
    }
   ],
   "source": [
    "# IS THE NUMBER DIVISIBLE BY THREE?\n",
    "DivisibleBy3 = [x for x in range(0,51) if x % 3 == 0]\n",
    "DivisibleBy3"
   ]
  },
  {
   "cell_type": "code",
   "execution_count": 43,
   "metadata": {
    "collapsed": true
   },
   "outputs": [
    {
     "name": "stdout",
     "output_type": "stream",
     "text": [
      "Even!\n",
      "Even!\n",
      "Even!\n",
      "Even!\n",
      "Even!\n",
      "Even!\n",
      "Even!\n",
      "Even!\n",
      "Even!\n"
     ]
    }
   ],
   "source": [
    "st = 'Print every word in this sentence that has an even number of letters'\n",
    "\n",
    "for w in st.split():\n",
    "    if len(w) % 2 == 0:\n",
    "        print('Even!')"
   ]
  },
  {
   "cell_type": "markdown",
   "metadata": {},
   "source": [
    "X IS A LIST BETWEEN 0 and 101 (101 excluded). FIZZBUZZ WILL BE PRINTED FOR A NUMBER THAT IS DIVISIBLE BY BOTH 3 and 5. ONLY FIZZ IF THE NUMBER IS MERELY DIVISIBLE BY 3, and BUZZ when IT IS DIVISIBLE BY 5"
   ]
  },
  {
   "cell_type": "code",
   "execution_count": 48,
   "metadata": {},
   "outputs": [
    {
     "name": "stdout",
     "output_type": "stream",
     "text": [
      "FizzBuzz: 0\n",
      "1\n",
      "2\n",
      "Fizz: 3\n",
      "4\n",
      "Buzz: 5\n",
      "Fizz: 6\n",
      "7\n",
      "8\n",
      "Fizz: 9\n",
      "Buzz: 10\n",
      "11\n",
      "Fizz: 12\n",
      "13\n",
      "14\n",
      "FizzBuzz: 15\n",
      "16\n",
      "17\n",
      "Fizz: 18\n",
      "19\n",
      "Buzz: 20\n",
      "Fizz: 21\n",
      "22\n",
      "23\n",
      "Fizz: 24\n",
      "Buzz: 25\n",
      "26\n",
      "Fizz: 27\n",
      "28\n",
      "29\n",
      "FizzBuzz: 30\n",
      "31\n",
      "32\n",
      "Fizz: 33\n",
      "34\n",
      "Buzz: 35\n",
      "Fizz: 36\n",
      "37\n",
      "38\n",
      "Fizz: 39\n",
      "Buzz: 40\n",
      "41\n",
      "Fizz: 42\n",
      "43\n",
      "44\n",
      "FizzBuzz: 45\n",
      "46\n",
      "47\n",
      "Fizz: 48\n",
      "49\n",
      "Buzz: 50\n",
      "Fizz: 51\n",
      "52\n",
      "53\n",
      "Fizz: 54\n",
      "Buzz: 55\n",
      "56\n",
      "Fizz: 57\n",
      "58\n",
      "59\n",
      "FizzBuzz: 60\n",
      "61\n",
      "62\n",
      "Fizz: 63\n",
      "64\n",
      "Buzz: 65\n",
      "Fizz: 66\n",
      "67\n",
      "68\n",
      "Fizz: 69\n",
      "Buzz: 70\n",
      "71\n",
      "Fizz: 72\n",
      "73\n",
      "74\n",
      "FizzBuzz: 75\n",
      "76\n",
      "77\n",
      "Fizz: 78\n",
      "79\n",
      "Buzz: 80\n",
      "Fizz: 81\n",
      "82\n",
      "83\n",
      "Fizz: 84\n",
      "Buzz: 85\n",
      "86\n",
      "Fizz: 87\n",
      "88\n",
      "89\n",
      "FizzBuzz: 90\n",
      "91\n",
      "92\n",
      "Fizz: 93\n",
      "94\n",
      "Buzz: 95\n",
      "Fizz: 96\n",
      "97\n",
      "98\n",
      "Fizz: 99\n",
      "Buzz: 100\n"
     ]
    }
   ],
   "source": [
    "x = range(0,101)\n",
    "\n",
    "for n in x:\n",
    "    if n % 3 == 0 and n % 5 == 0:\n",
    "        print('FizzBuzz:', n)\n",
    "    elif n % 3 == 0:\n",
    "        print('Fizz:', n)\n",
    "    elif n % 5 == 0:\n",
    "        print('Buzz:', n)\n",
    "    else:\n",
    "        print(n)"
   ]
  },
  {
   "cell_type": "code",
   "execution_count": 49,
   "metadata": {
    "collapsed": true
   },
   "outputs": [
    {
     "data": {
      "text/plain": [
       "['C', 'a', 'l', 'o', 't', 'f', 'l', 'o', 'e', 'w', 'i', 't', 's']"
      ]
     },
     "execution_count": 49,
     "metadata": {},
     "output_type": "execute_result"
    }
   ],
   "source": [
    "st = 'Create a list of the first letters of every word in this string'\n",
    "[f[0] for f in st.split()]"
   ]
  },
  {
   "cell_type": "code",
   "execution_count": null,
   "metadata": {
    "collapsed": true
   },
   "outputs": [],
   "source": []
  }
 ],
 "metadata": {
  "kernelspec": {
   "display_name": "Python 3",
   "language": "python",
   "name": "python3"
  },
  "language_info": {
   "codemirror_mode": {
    "name": "ipython",
    "version": 3
   },
   "file_extension": ".py",
   "mimetype": "text/x-python",
   "name": "python",
   "nbconvert_exporter": "python",
   "pygments_lexer": "ipython3",
   "version": "3.6.2"
  }
 },
 "nbformat": 4,
 "nbformat_minor": 2
}
